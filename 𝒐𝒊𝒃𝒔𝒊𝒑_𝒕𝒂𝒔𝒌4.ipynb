{
 "cells": [
  {
   "cell_type": "code",
   "execution_count": 7,
   "metadata": {},
   "outputs": [
    {
     "name": "stdout",
     "output_type": "stream",
     "text": [
      "Accuracy: 0.9551435406698564\n",
      "\n",
      "Classification Report:\n",
      "               precision    recall  f1-score   support\n",
      "\n",
      "           0       0.95      1.00      0.97      1453\n",
      "           1       0.98      0.67      0.80       219\n",
      "\n",
      "    accuracy                           0.96      1672\n",
      "   macro avg       0.97      0.83      0.89      1672\n",
      "weighted avg       0.96      0.96      0.95      1672\n",
      "\n"
     ]
    }
   ],
   "source": [
    "import pandas as pd\n",
    "from sklearn.model_selection import train_test_split\n",
    "from sklearn.feature_extraction.text import TfidfVectorizer\n",
    "from sklearn.linear_model import LogisticRegression\n",
    "from sklearn.metrics import accuracy_score, classification_report\n",
    "\n",
    "# Load Dataset\n",
    "data = pd.read_csv(\"C:\\\\spam.csv\", encoding=\"latin-1\")\n",
    "data = data[['v1', 'v2']]\n",
    "data.columns = ['Label', 'Text']\n",
    "\n",
    "# Convert labels to binary\n",
    "data['Label'] = data['Label'].map({'ham': 0, 'spam': 1})\n",
    "\n",
    "# Split the data\n",
    "X_train, X_test, y_train, y_test = train_test_split(data['Text'], data['Label'], test_size=0.3, random_state=42)\n",
    "\n",
    "# Feature Extraction using TF-IDF Vectorizer\n",
    "vectorizer = TfidfVectorizer(stop_words='english', max_features=5000)\n",
    "X_train_tfidf = vectorizer.fit_transform(X_train)\n",
    "X_test_tfidf = vectorizer.transform(X_test)\n",
    "\n",
    "# Train the Model\n",
    "model = LogisticRegression()\n",
    "model.fit(X_train_tfidf, y_train)\n",
    "\n",
    "# Make Predictions\n",
    "y_pred = model.predict(X_test_tfidf)\n",
    "\n",
    "# Evaluate the Model\n",
    "print(\"Accuracy:\", accuracy_score(y_test, y_pred))\n",
    "print(\"\\nClassification Report:\\n\", classification_report(y_test, y_pred))\n"
   ]
  },
  {
   "cell_type": "code",
   "execution_count": null,
   "metadata": {},
   "outputs": [
    {
     "name": "stdout",
     "output_type": "stream",
     "text": [
      "Prediction: [0]\n"
     ]
    }
   ],
   "source": [
    "email = ['''\n",
    "Hi there,\n",
    " \n",
    "If keeping up with us on X isn’t your speed, here’s a quick summary of what’s fresh in Mintlify.\n",
    "Changelog now supported\n",
    "\n",
    "With our new Update component, you can now host a changelog in your docs. Add anything like screenshots, code snippets, or a list of changes.\n",
    "See it in action in our very own changelog.\n",
    "Quality-of-life improvements\n",
    "Footer upgrade: Add more links to the footer, e.g. resources or status logs.\n",
    "Image cards: Display an image on top of a card.\n",
    "Code line highlighting: Throw in a curly brace to highlight specific lines in code blocks.\n",
    "Code blocks: They now come in light mode to match your user’s setting.\n",
    "Google login: Sign into the Mintlify dashboard without a magic link.\n",
    "—\n",
    "Stay shipping,\n",
    "Han\n",
    "You are receiving this email because you opted-in to receive updates from Mintlify\n",
    "Mintlify, 169 Madison Ave #2146 New York, NY 10016\n",
    "Unsubscribe\n",
    "         ''']\n",
    "email_tfidf = vectorizer.transform(email)\n",
    "print(\"Prediction:\", model.predict(email_tfidf))  # Output: 1 (spam) or 0 (not spam)\n"
   ]
  },
  {
   "cell_type": "code",
   "execution_count": null,
   "metadata": {},
   "outputs": [],
   "source": []
  }
 ],
 "metadata": {
  "kernelspec": {
   "display_name": "venv",
   "language": "python",
   "name": "python3"
  },
  "language_info": {
   "codemirror_mode": {
    "name": "ipython",
    "version": 3
   },
   "file_extension": ".py",
   "mimetype": "text/x-python",
   "name": "python",
   "nbconvert_exporter": "python",
   "pygments_lexer": "ipython3",
   "version": "3.12.0"
  }
 },
 "nbformat": 4,
 "nbformat_minor": 2
}
